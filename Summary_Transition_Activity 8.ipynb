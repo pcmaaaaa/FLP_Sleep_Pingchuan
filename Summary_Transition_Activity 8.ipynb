{
 "cells": [
  {
   "cell_type": "code",
   "execution_count": 1,
   "metadata": {},
   "outputs": [],
   "source": [
    "import FLP_Sleep_Pingchuan as PKA\n",
    "import Graphing_Utils as graph\n",
    "import numpy as np\n",
    "import os\n",
    "\n",
    "filter_bounds = [None, None]\n",
    "num_std  = False\n",
    "FWHM_thresh = False\n",
    "binned = False\n",
    "discrete_cutoff = False\n",
    "experimental_sensor = 'ACh3.0'\n",
    "microarousals = False\n",
    "these_transitions = ['NREM-Active Wake','REM-Active Wake','NREM-REM','Active Wake-NREM',\n",
    "                    'NREM-Quiet Wake','REM-Quiet Wake','Active Wake-Quiet Wake','Quiet Wake-NREM',\n",
    "                     'Quiet Wake-Active Wake']\n",
    "window = [50,100]\n",
    "intensity = True\n",
    "dynamic_window = None\n",
    "# savename = '/Volumes/yaochen/Active/Pingchuan/2023SPR/20220219_1610_SW_002/test.png'\n",
    "# savename = False\n",
    "savename = 'Transitions.png'"
   ]
  },
  {
   "cell_type": "code",
   "execution_count": 2,
   "metadata": {},
   "outputs": [],
   "source": [
    "# exp_df = PKA.pull_experiment_names()\n",
    "#OR\n",
    "\n",
    "data_folder_all = ['/Volumes/PcSSDA/1610/','/Volumes/PcSSDA/1610/','/Volumes/PcSSDA/1610/',\n",
    "                  '/Volumes/PcSSDA/1611/','/Volumes/PcSSDA/1611/','/Volumes/PcSSDA/1611/',\n",
    "                  '/Volumes/PcSSDA/1612/','/Volumes/PcSSDA/1612/','/Volumes/PcSSDA/1612/',\n",
    "                  '/Volumes/PcSSDA/1626/','/Volumes/PcSSDA/1626/','/Volumes/PcSSDA/1626/',\n",
    "                  '/Volumes/PcSSDA/1629/','/Volumes/PcSSDA/1629/','/Volumes/PcSSDA/1629/',\n",
    "                  '/Volumes/PcSSDA/1630/','/Volumes/PcSSDA/1630/','/Volumes/PcSSDA/1630/']\n",
    "\n",
    "exp_df_all = ['20220219_1610_SW_002','20220314_1610_SW_003','20220328_1610_SW_005',\n",
    "              '20220302_1611_SW_003','20220316_1611_SW_004','20220325_1611_SW_005',\n",
    "              '20220301_1612_SW_003','20220315_1612_SW_004','20220324_1612_SW_005',\n",
    "              '20220313_1626_SW_002','20220318_1626_SW_003','20220329_1626_SW_004',\n",
    "              '20220312_1629_SW_002','20220323_1629_SW_003','20220331_1629_SW_004',\n",
    "              '20220304_1630_SW_002','20220319_1630_SW_003','20220330_1630_SW_004']"
   ]
  },
  {
   "cell_type": "code",
   "execution_count": null,
   "metadata": {},
   "outputs": [],
   "source": []
  },
  {
   "cell_type": "code",
   "execution_count": null,
   "metadata": {
    "scrolled": false
   },
   "outputs": [
    {
     "name": "stdout",
     "output_type": "stream",
     "text": [
      "Working on 20220219_1610_SW_002...\n",
      "You didnt put any filter values\n",
      "/Volumes/PcSSDA/1610/20220219_1610_SW_002/concat_Acq11_23.mat\n"
     ]
    },
    {
     "name": "stderr",
     "output_type": "stream",
     "text": [
      "/Users/pingchuanma/Desktop/Remote_Git/FLP_Sleep_Pingchuan/PKA_Transient_project.py:1167: RuntimeWarning: Mean of empty slice\n",
      "  x = np.nanmean(these_times, axis = 0)\n",
      "/Users/pingchuanma/opt/anaconda3/lib/python3.8/site-packages/numpy/lib/nanfunctions.py:1113: RuntimeWarning: All-NaN slice encountered\n",
      "  r, k = function_base._ureduce(a, func=_nanmedian, axis=axis, out=out,\n",
      "/Users/pingchuanma/Desktop/Remote_Git/FLP_Sleep_Pingchuan/PKA_Transient_project.py:1167: RuntimeWarning: Mean of empty slice\n",
      "  x = np.nanmean(these_times, axis = 0)\n",
      "/Users/pingchuanma/opt/anaconda3/lib/python3.8/site-packages/numpy/lib/nanfunctions.py:1113: RuntimeWarning: All-NaN slice encountered\n",
      "  r, k = function_base._ureduce(a, func=_nanmedian, axis=axis, out=out,\n",
      "/Users/pingchuanma/Desktop/Remote_Git/FLP_Sleep_Pingchuan/PKA_Transient_project.py:1167: RuntimeWarning: Mean of empty slice\n",
      "  x = np.nanmean(these_times, axis = 0)\n",
      "/Users/pingchuanma/opt/anaconda3/lib/python3.8/site-packages/numpy/lib/nanfunctions.py:1113: RuntimeWarning: All-NaN slice encountered\n",
      "  r, k = function_base._ureduce(a, func=_nanmedian, axis=axis, out=out,\n",
      "/Users/pingchuanma/Desktop/Remote_Git/FLP_Sleep_Pingchuan/PKA_Transient_project.py:1167: RuntimeWarning: Mean of empty slice\n",
      "  x = np.nanmean(these_times, axis = 0)\n",
      "/Users/pingchuanma/opt/anaconda3/lib/python3.8/site-packages/numpy/lib/nanfunctions.py:1113: RuntimeWarning: All-NaN slice encountered\n",
      "  r, k = function_base._ureduce(a, func=_nanmedian, axis=axis, out=out,\n"
     ]
    },
    {
     "name": "stdout",
     "output_type": "stream",
     "text": [
      "Working on 20220314_1610_SW_003...\n",
      "You didnt put any filter values\n",
      "/Volumes/PcSSDA/1610/20220314_1610_SW_003/concat_Acq10_22.mat\n"
     ]
    },
    {
     "name": "stderr",
     "output_type": "stream",
     "text": [
      "/Users/pingchuanma/Desktop/Remote_Git/FLP_Sleep_Pingchuan/PKA_Transient_project.py:1167: RuntimeWarning: Mean of empty slice\n",
      "  x = np.nanmean(these_times, axis = 0)\n",
      "/Users/pingchuanma/opt/anaconda3/lib/python3.8/site-packages/numpy/lib/nanfunctions.py:1113: RuntimeWarning: All-NaN slice encountered\n",
      "  r, k = function_base._ureduce(a, func=_nanmedian, axis=axis, out=out,\n",
      "/Users/pingchuanma/Desktop/Remote_Git/FLP_Sleep_Pingchuan/PKA_Transient_project.py:1167: RuntimeWarning: Mean of empty slice\n",
      "  x = np.nanmean(these_times, axis = 0)\n",
      "/Users/pingchuanma/opt/anaconda3/lib/python3.8/site-packages/numpy/lib/nanfunctions.py:1113: RuntimeWarning: All-NaN slice encountered\n",
      "  r, k = function_base._ureduce(a, func=_nanmedian, axis=axis, out=out,\n",
      "/Users/pingchuanma/Desktop/Remote_Git/FLP_Sleep_Pingchuan/PKA_Transient_project.py:1167: RuntimeWarning: Mean of empty slice\n",
      "  x = np.nanmean(these_times, axis = 0)\n",
      "/Users/pingchuanma/opt/anaconda3/lib/python3.8/site-packages/numpy/lib/nanfunctions.py:1113: RuntimeWarning: All-NaN slice encountered\n",
      "  r, k = function_base._ureduce(a, func=_nanmedian, axis=axis, out=out,\n"
     ]
    },
    {
     "name": "stdout",
     "output_type": "stream",
     "text": [
      "Working on 20220328_1610_SW_005...\n",
      "You didnt put any filter values\n",
      "/Volumes/PcSSDA/1610/20220328_1610_SW_005/concat_Acq10_22.mat\n"
     ]
    },
    {
     "name": "stderr",
     "output_type": "stream",
     "text": [
      "/Users/pingchuanma/Desktop/Remote_Git/FLP_Sleep_Pingchuan/PKA_Transient_project.py:1167: RuntimeWarning: Mean of empty slice\n",
      "  x = np.nanmean(these_times, axis = 0)\n",
      "/Users/pingchuanma/opt/anaconda3/lib/python3.8/site-packages/numpy/lib/nanfunctions.py:1113: RuntimeWarning: All-NaN slice encountered\n",
      "  r, k = function_base._ureduce(a, func=_nanmedian, axis=axis, out=out,\n",
      "/Users/pingchuanma/Desktop/Remote_Git/FLP_Sleep_Pingchuan/PKA_Transient_project.py:1167: RuntimeWarning: Mean of empty slice\n",
      "  x = np.nanmean(these_times, axis = 0)\n",
      "/Users/pingchuanma/opt/anaconda3/lib/python3.8/site-packages/numpy/lib/nanfunctions.py:1113: RuntimeWarning: All-NaN slice encountered\n",
      "  r, k = function_base._ureduce(a, func=_nanmedian, axis=axis, out=out,\n",
      "/Users/pingchuanma/Desktop/Remote_Git/FLP_Sleep_Pingchuan/PKA_Transient_project.py:1167: RuntimeWarning: Mean of empty slice\n",
      "  x = np.nanmean(these_times, axis = 0)\n",
      "/Users/pingchuanma/opt/anaconda3/lib/python3.8/site-packages/numpy/lib/nanfunctions.py:1113: RuntimeWarning: All-NaN slice encountered\n",
      "  r, k = function_base._ureduce(a, func=_nanmedian, axis=axis, out=out,\n"
     ]
    },
    {
     "name": "stdout",
     "output_type": "stream",
     "text": [
      "Working on 20220302_1611_SW_003...\n",
      "You didnt put any filter values\n",
      "/Volumes/PcSSDA/1611/20220302_1611_SW_003/concat_Acq10_22.mat\n"
     ]
    },
    {
     "name": "stderr",
     "output_type": "stream",
     "text": [
      "/Users/pingchuanma/Desktop/Remote_Git/FLP_Sleep_Pingchuan/PKA_Transient_project.py:1167: RuntimeWarning: Mean of empty slice\n",
      "  x = np.nanmean(these_times, axis = 0)\n",
      "/Users/pingchuanma/opt/anaconda3/lib/python3.8/site-packages/numpy/lib/nanfunctions.py:1113: RuntimeWarning: All-NaN slice encountered\n",
      "  r, k = function_base._ureduce(a, func=_nanmedian, axis=axis, out=out,\n",
      "/Users/pingchuanma/Desktop/Remote_Git/FLP_Sleep_Pingchuan/PKA_Transient_project.py:1167: RuntimeWarning: Mean of empty slice\n",
      "  x = np.nanmean(these_times, axis = 0)\n",
      "/Users/pingchuanma/opt/anaconda3/lib/python3.8/site-packages/numpy/lib/nanfunctions.py:1113: RuntimeWarning: All-NaN slice encountered\n",
      "  r, k = function_base._ureduce(a, func=_nanmedian, axis=axis, out=out,\n",
      "/Users/pingchuanma/Desktop/Remote_Git/FLP_Sleep_Pingchuan/PKA_Transient_project.py:1167: RuntimeWarning: Mean of empty slice\n",
      "  x = np.nanmean(these_times, axis = 0)\n",
      "/Users/pingchuanma/opt/anaconda3/lib/python3.8/site-packages/numpy/lib/nanfunctions.py:1113: RuntimeWarning: All-NaN slice encountered\n",
      "  r, k = function_base._ureduce(a, func=_nanmedian, axis=axis, out=out,\n",
      "/Users/pingchuanma/opt/anaconda3/lib/python3.8/site-packages/numpy/core/_methods.py:233: RuntimeWarning: Degrees of freedom <= 0 for slice\n",
      "  ret = _var(a, axis=axis, dtype=dtype, out=out, ddof=ddof,\n",
      "/Users/pingchuanma/opt/anaconda3/lib/python3.8/site-packages/numpy/core/_methods.py:223: RuntimeWarning: invalid value encountered in true_divide\n",
      "  ret = um.true_divide(\n",
      "/Users/pingchuanma/Desktop/Remote_Git/FLP_Sleep_Pingchuan/PKA_Transient_project.py:1167: RuntimeWarning: Mean of empty slice\n",
      "  x = np.nanmean(these_times, axis = 0)\n",
      "/Users/pingchuanma/opt/anaconda3/lib/python3.8/site-packages/numpy/lib/nanfunctions.py:1113: RuntimeWarning: All-NaN slice encountered\n",
      "  r, k = function_base._ureduce(a, func=_nanmedian, axis=axis, out=out,\n",
      "/Users/pingchuanma/Desktop/Remote_Git/FLP_Sleep_Pingchuan/PKA_Transient_project.py:1167: RuntimeWarning: Mean of empty slice\n",
      "  x = np.nanmean(these_times, axis = 0)\n",
      "/Users/pingchuanma/opt/anaconda3/lib/python3.8/site-packages/numpy/lib/nanfunctions.py:1113: RuntimeWarning: All-NaN slice encountered\n",
      "  r, k = function_base._ureduce(a, func=_nanmedian, axis=axis, out=out,\n"
     ]
    },
    {
     "name": "stdout",
     "output_type": "stream",
     "text": [
      "Working on 20220316_1611_SW_004...\n",
      "You didnt put any filter values\n",
      "/Volumes/PcSSDA/1611/20220316_1611_SW_004/concat_Acq10_22.mat\n"
     ]
    },
    {
     "name": "stderr",
     "output_type": "stream",
     "text": [
      "/Users/pingchuanma/Desktop/Remote_Git/FLP_Sleep_Pingchuan/PKA_Transient_project.py:1167: RuntimeWarning: Mean of empty slice\n",
      "  x = np.nanmean(these_times, axis = 0)\n",
      "/Users/pingchuanma/opt/anaconda3/lib/python3.8/site-packages/numpy/lib/nanfunctions.py:1113: RuntimeWarning: All-NaN slice encountered\n",
      "  r, k = function_base._ureduce(a, func=_nanmedian, axis=axis, out=out,\n",
      "/Users/pingchuanma/Desktop/Remote_Git/FLP_Sleep_Pingchuan/PKA_Transient_project.py:1167: RuntimeWarning: Mean of empty slice\n",
      "  x = np.nanmean(these_times, axis = 0)\n",
      "/Users/pingchuanma/opt/anaconda3/lib/python3.8/site-packages/numpy/lib/nanfunctions.py:1113: RuntimeWarning: All-NaN slice encountered\n",
      "  r, k = function_base._ureduce(a, func=_nanmedian, axis=axis, out=out,\n",
      "/Users/pingchuanma/Desktop/Remote_Git/FLP_Sleep_Pingchuan/PKA_Transient_project.py:1167: RuntimeWarning: Mean of empty slice\n",
      "  x = np.nanmean(these_times, axis = 0)\n",
      "/Users/pingchuanma/opt/anaconda3/lib/python3.8/site-packages/numpy/lib/nanfunctions.py:1113: RuntimeWarning: All-NaN slice encountered\n",
      "  r, k = function_base._ureduce(a, func=_nanmedian, axis=axis, out=out,\n",
      "/Users/pingchuanma/Desktop/Remote_Git/FLP_Sleep_Pingchuan/PKA_Transient_project.py:1167: RuntimeWarning: Mean of empty slice\n",
      "  x = np.nanmean(these_times, axis = 0)\n",
      "/Users/pingchuanma/opt/anaconda3/lib/python3.8/site-packages/numpy/lib/nanfunctions.py:1113: RuntimeWarning: All-NaN slice encountered\n",
      "  r, k = function_base._ureduce(a, func=_nanmedian, axis=axis, out=out,\n",
      "/Users/pingchuanma/Desktop/Remote_Git/FLP_Sleep_Pingchuan/PKA_Transient_project.py:1167: RuntimeWarning: Mean of empty slice\n",
      "  x = np.nanmean(these_times, axis = 0)\n",
      "/Users/pingchuanma/opt/anaconda3/lib/python3.8/site-packages/numpy/lib/nanfunctions.py:1113: RuntimeWarning: All-NaN slice encountered\n",
      "  r, k = function_base._ureduce(a, func=_nanmedian, axis=axis, out=out,\n",
      "/Users/pingchuanma/Desktop/Remote_Git/FLP_Sleep_Pingchuan/PKA_Transient_project.py:1167: RuntimeWarning: Mean of empty slice\n",
      "  x = np.nanmean(these_times, axis = 0)\n",
      "/Users/pingchuanma/opt/anaconda3/lib/python3.8/site-packages/numpy/lib/nanfunctions.py:1113: RuntimeWarning: All-NaN slice encountered\n",
      "  r, k = function_base._ureduce(a, func=_nanmedian, axis=axis, out=out,\n"
     ]
    },
    {
     "name": "stdout",
     "output_type": "stream",
     "text": [
      "Working on 20220325_1611_SW_005...\n",
      "You didnt put any filter values\n",
      "/Volumes/PcSSDA/1611/20220325_1611_SW_005/concat_Acq10_22.mat\n"
     ]
    },
    {
     "name": "stderr",
     "output_type": "stream",
     "text": [
      "/Users/pingchuanma/Desktop/Remote_Git/FLP_Sleep_Pingchuan/PKA_Transient_project.py:1167: RuntimeWarning: Mean of empty slice\n",
      "  x = np.nanmean(these_times, axis = 0)\n",
      "/Users/pingchuanma/opt/anaconda3/lib/python3.8/site-packages/numpy/lib/nanfunctions.py:1113: RuntimeWarning: All-NaN slice encountered\n",
      "  r, k = function_base._ureduce(a, func=_nanmedian, axis=axis, out=out,\n",
      "/Users/pingchuanma/Desktop/Remote_Git/FLP_Sleep_Pingchuan/PKA_Transient_project.py:1167: RuntimeWarning: Mean of empty slice\n",
      "  x = np.nanmean(these_times, axis = 0)\n",
      "/Users/pingchuanma/opt/anaconda3/lib/python3.8/site-packages/numpy/lib/nanfunctions.py:1113: RuntimeWarning: All-NaN slice encountered\n",
      "  r, k = function_base._ureduce(a, func=_nanmedian, axis=axis, out=out,\n",
      "/Users/pingchuanma/Desktop/Remote_Git/FLP_Sleep_Pingchuan/PKA_Transient_project.py:1167: RuntimeWarning: Mean of empty slice\n",
      "  x = np.nanmean(these_times, axis = 0)\n",
      "/Users/pingchuanma/opt/anaconda3/lib/python3.8/site-packages/numpy/lib/nanfunctions.py:1113: RuntimeWarning: All-NaN slice encountered\n",
      "  r, k = function_base._ureduce(a, func=_nanmedian, axis=axis, out=out,\n"
     ]
    },
    {
     "name": "stdout",
     "output_type": "stream",
     "text": [
      "Working on 20220301_1612_SW_003...\n",
      "You didnt put any filter values\n",
      "/Volumes/PcSSDA/1612/20220301_1612_SW_003/concat_Acq10_22.mat\n"
     ]
    },
    {
     "name": "stderr",
     "output_type": "stream",
     "text": [
      "/Users/pingchuanma/Desktop/Remote_Git/FLP_Sleep_Pingchuan/PKA_Transient_project.py:1167: RuntimeWarning: Mean of empty slice\n",
      "  x = np.nanmean(these_times, axis = 0)\n",
      "/Users/pingchuanma/opt/anaconda3/lib/python3.8/site-packages/numpy/lib/nanfunctions.py:1113: RuntimeWarning: All-NaN slice encountered\n",
      "  r, k = function_base._ureduce(a, func=_nanmedian, axis=axis, out=out,\n",
      "/Users/pingchuanma/Desktop/Remote_Git/FLP_Sleep_Pingchuan/PKA_Transient_project.py:1167: RuntimeWarning: Mean of empty slice\n",
      "  x = np.nanmean(these_times, axis = 0)\n",
      "/Users/pingchuanma/opt/anaconda3/lib/python3.8/site-packages/numpy/lib/nanfunctions.py:1113: RuntimeWarning: All-NaN slice encountered\n",
      "  r, k = function_base._ureduce(a, func=_nanmedian, axis=axis, out=out,\n",
      "/Users/pingchuanma/Desktop/Remote_Git/FLP_Sleep_Pingchuan/PKA_Transient_project.py:1167: RuntimeWarning: Mean of empty slice\n",
      "  x = np.nanmean(these_times, axis = 0)\n",
      "/Users/pingchuanma/opt/anaconda3/lib/python3.8/site-packages/numpy/lib/nanfunctions.py:1113: RuntimeWarning: All-NaN slice encountered\n",
      "  r, k = function_base._ureduce(a, func=_nanmedian, axis=axis, out=out,\n"
     ]
    },
    {
     "name": "stdout",
     "output_type": "stream",
     "text": [
      "Working on 20220315_1612_SW_004...\n"
     ]
    }
   ],
   "source": [
    "for i in np.arange(len(exp_df_all)):\n",
    "    exp_df = [exp_df_all[i]]\n",
    "    data_folder = data_folder_all[i]\n",
    "    PKA.transition_triggered_lifetime(exp_df, filter_bounds, data_folder = data_folder, window = window, num_std = num_std, \n",
    "                                      discrete_cutoff = discrete_cutoff, binned = binned, FWHM_thresh = FWHM_thresh, \n",
    "                                      experimental_sensor = experimental_sensor, savename = savename, \n",
    "                                      microarousals = microarousals, these_transitions = these_transitions, \n",
    "                                      intensity = intensity, dynamic_window = dynamic_window, diff_wake = True)"
   ]
  },
  {
   "cell_type": "code",
   "execution_count": null,
   "metadata": {},
   "outputs": [],
   "source": []
  },
  {
   "cell_type": "code",
   "execution_count": 10,
   "metadata": {},
   "outputs": [
    {
     "name": "stdout",
     "output_type": "stream",
     "text": [
      "['18:10:25', '19:10:29', '20:10:33', '21:10:36', '22:10:40', '23:10:44', '00:10:48', '01:10:52', '02:10:56', '03:11:00', '04:11:04', '05:11:08', '06:11:12', '07:11:15', '08:11:19', '09:11:23']\n"
     ]
    }
   ],
   "source": [
    "from scipy import io, signal\n",
    "notebook_filename = '/Volumes/PcSSDA/1610/20220314_1610_SW_003/autonotes.mat'\n",
    "notebook = {}\n",
    "io.loadmat(notebook_filename, mdict=notebook)\n",
    "\n",
    "ts_format = '%H:%M:%S.%f'\n",
    "if len(notebook['notebook']) == 0:\n",
    "    a = [[]]\n",
    "else:\n",
    "    a = [notebook['notebook'][0][x][0][0:8] for x in np.arange(np.size(notebook['notebook'][0]))]\n",
    "    \n",
    "print(a)"
   ]
  },
  {
   "cell_type": "code",
   "execution_count": 5,
   "metadata": {},
   "outputs": [
    {
     "name": "stdout",
     "output_type": "stream",
     "text": [
      "/Users/pingchuanma/Desktop/Remote_Git/FLP_Sleep_Pingchuan/FLPExp_class.py\n"
     ]
    }
   ],
   "source": [
    "import inspect\n",
    "print(os.path.abspath(inspect.getfile(PKA.FLiPExperiment)))"
   ]
  },
  {
   "cell_type": "code",
   "execution_count": null,
   "metadata": {},
   "outputs": [],
   "source": []
  }
 ],
 "metadata": {
  "kernelspec": {
   "display_name": "Python 3",
   "language": "python",
   "name": "python3"
  },
  "language_info": {
   "codemirror_mode": {
    "name": "ipython",
    "version": 3
   },
   "file_extension": ".py",
   "mimetype": "text/x-python",
   "name": "python",
   "nbconvert_exporter": "python",
   "pygments_lexer": "ipython3",
   "version": "3.8.5"
  }
 },
 "nbformat": 4,
 "nbformat_minor": 5
}
